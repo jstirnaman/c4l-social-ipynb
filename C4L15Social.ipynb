{
 "metadata": {
  "name": "",
  "signature": "sha256:41e507671c1b27073223207ad79c6d4dc4878023dc0c6960bea06bff200c0e65"
 },
 "nbformat": 3,
 "nbformat_minor": 0,
 "worksheets": [
  {
   "cells": [
    {
     "cell_type": "heading",
     "level": 1,
     "metadata": {},
     "source": [
      "C4L15 Social"
     ]
    },
    {
     "cell_type": "markdown",
     "metadata": {},
     "source": [
      "## You'll need to install these modules if you want to use them.\n",
      "e.g. From the command line: pip install matplotlib"
     ]
    },
    {
     "cell_type": "code",
     "collapsed": false,
     "input": [
      "import matplotlib as plt\n",
      "import networkx as nx\n",
      "import textutils as tu\n",
      "plt.rc('figure', figsize=(8, 5))"
     ],
     "language": "python",
     "metadata": {},
     "outputs": []
    },
    {
     "cell_type": "markdown",
     "metadata": {},
     "source": [
      "## Twitter\n",
      "Borrowing from the example at http://nbviewer.ipython.org/gist/ellisonbg/3837783. \n",
      "### Twitter API now requires OAuth2 for searching.\n",
      "My example below updates ellisonbg's example to accomodate Twitter's OAuth2 requirement.\n",
      "Twython makes it easy. You just need to get an APP_KEY and APP_SECRET from Twitter.\n",
      "See https://twython.readthedocs.org/en/latest/usage/starting_out.html"
     ]
    },
    {
     "cell_type": "code",
     "collapsed": false,
     "input": [
      "# Secrets!\n",
      "APP_KEY = ''\n",
      "APP_SECRET = ''"
     ],
     "language": "python",
     "metadata": {},
     "outputs": [],
     "prompt_number": 4
    },
    {
     "cell_type": "code",
     "collapsed": false,
     "input": [
      "from twython import Twython\n",
      "twitter = Twython(APP_KEY, APP_SECRET, oauth_version=2)\n",
      "ACCESS_TOKEN = twitter.obtain_access_token()\n",
      "twitter = Twython(APP_KEY, access_token=ACCESS_TOKEN)"
     ],
     "language": "python",
     "metadata": {},
     "outputs": []
    },
    {
     "cell_type": "code",
     "collapsed": false,
     "input": [
      "query = \"%23c4l15\"\n",
      "n_pages = 30\n",
      "results = []\n",
      "retweets = []\n",
      "urls = []\n",
      "for page in range(1, n_pages+1):\n",
      "    search = twitter.search(q=query, lang='en', count=20)\n",
      "    res = search['statuses']\n",
      "    if not res:\n",
      "        print 'Stopping at page:', page\n",
      "        break\n",
      "        \n",
      "    for t in res:\n",
      "        if t['text'].startswith('RT '):\n",
      "            retweets.append(t)\n",
      "        else:\n",
      "            results.append(t)\n",
      "        for u in t['entities']['urls']:\n",
      "            urls.append(u['expanded_url'])\n",
      "tweets = [t['text'] for t in results]\n",
      "urls = set(urls)\n",
      "# Quick summary\n",
      "print 'query: ', query\n",
      "print 'results: ', len(results)\n",
      "print 'retweets: ', len(retweets)\n",
      "print 'unique urls: ', len(urls)\n",
      "print 'urls mentioned: ', urls\n",
      "print 'tweets: ', tweets\n"
     ],
     "language": "python",
     "metadata": {},
     "outputs": []
    },
    {
     "cell_type": "code",
     "collapsed": false,
     "input": [],
     "language": "python",
     "metadata": {},
     "outputs": []
    }
   ],
   "metadata": {}
  }
 ]
}