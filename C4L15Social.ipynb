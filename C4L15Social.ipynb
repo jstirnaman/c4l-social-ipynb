{
 "metadata": {
  "name": "",
  "signature": "sha256:d3b0f8ae092d774652e124fb6fd05a27d564aea32a369c72afb0bb1ae36fe38c"
 },
 "nbformat": 3,
 "nbformat_minor": 0,
 "worksheets": [
  {
   "cells": [
    {
     "cell_type": "code",
     "collapsed": false,
     "input": [],
     "language": "python",
     "metadata": {},
     "outputs": []
    },
    {
     "cell_type": "heading",
     "level": 1,
     "metadata": {},
     "source": [
      "C4L15 Social"
     ]
    },
    {
     "cell_type": "code",
     "collapsed": false,
     "input": [
      "import matplotlib as plt\n",
      "import networkx as nx\n",
      "import textutils as tu\n",
      "plt.rc('figure', figsize=(8, 5))"
     ],
     "language": "python",
     "metadata": {},
     "outputs": []
    },
    {
     "cell_type": "markdown",
     "metadata": {},
     "source": [
      "# Grab some tweets"
     ]
    },
    {
     "cell_type": "markdown",
     "metadata": {},
     "source": [
      "I took this example from http://nbviewer.ipython.org/gist/ellisonbg/3837783. \n",
      "# Twitter API now requires Oauth2 for searching.\n",
      "See https://twython.readthedocs.org/en/latest/usage/starting_out.html\n",
      "I've updated the example to accomodate the Oauth2 requirement."
     ]
    },
    {
     "cell_type": "code",
     "collapsed": false,
     "input": [
      "from twython import Twython\n",
      "APP_KEY = 'APP_KEY'\n",
      "APP_SECRET = 'APP_SECRET'\n",
      "twitter = Twython(APP_KEY, APP_SECRET, oauth_version=2)\n",
      "ACCESS_TOKEN = twitter.obtain_access_token()\n",
      "twitter = Twython(APP_KEY, access_token=ACCESS_TOKEN)"
     ],
     "language": "python",
     "metadata": {},
     "outputs": []
    },
    {
     "cell_type": "code",
     "collapsed": false,
     "input": [
      "# Dedup function\n",
      "def uniq(seq): \n",
      "   # order preserving\n",
      "   noDupes = []\n",
      "   [noDupes.append(i) for i in seq if not noDupes.count(i)]\n",
      "   return noDupes\n",
      "\n",
      "query = \"%23c4l15\"\n",
      "n_pages = 30\n",
      "results = []\n",
      "retweets = []\n",
      "urls = []\n",
      "for page in range(1, n_pages+1):\n",
      "    search = twitter.search(q=query, lang='en', count=20)\n",
      "    res = search['statuses']\n",
      "    if not res:\n",
      "        print 'Stopping at page:', page\n",
      "        break\n",
      "        \n",
      "    for t in res:\n",
      "        if t['text'].startswith('RT '):\n",
      "            retweets.append(t)\n",
      "        else:\n",
      "            results.append(t)\n",
      "        for u in t['entities']['urls']:\n",
      "            urls.append(u['expanded_url'])\n",
      "tweets = [t['text'] for t in results]\n",
      "urls = uniq(urls)\n",
      "# Quick summary\n",
      "print 'query: ', query\n",
      "print 'results: ', len(results)\n",
      "print 'retweets: ', len(retweets)\n",
      "print 'unique urls: ', len(urls)\n",
      "print 'urls mentioned: ', urls\n",
      "print 'tweets: ', tweets\n"
     ],
     "language": "python",
     "metadata": {},
     "outputs": []
    },
    {
     "cell_type": "code",
     "collapsed": false,
     "input": [],
     "language": "python",
     "metadata": {},
     "outputs": []
    }
   ],
   "metadata": {}
  }
 ]
}